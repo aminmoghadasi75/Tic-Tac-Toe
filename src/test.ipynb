{
 "cells": [
  {
   "cell_type": "markdown",
   "metadata": {},
   "source": [
    "## TIC TAC TOE\n",
    "- init\n",
    "    - board\n",
    "    - player turn\n",
    "    - players --> X - O\n",
    "- show board\n",
    "- first player\n",
    "- swap player turn\n",
    "- check the winner condition\n",
    "- chech empty location\n",
    "- fill the picked stage (player , location)\n",
    "- board is fill or not ?"
   ]
  },
  {
   "cell_type": "code",
   "execution_count": 9,
   "metadata": {},
   "outputs": [],
   "source": [
    "import random\n",
    "from tabulate import tabulate\n",
    "\n",
    "class TicTacToe():\n",
    "    def __init__(self,):\n",
    "        self.board = [i for i in range(1,10)]\n",
    "        self.players= ['X' , 'O']\n",
    "        self.player_turn = random.choice(self.players)\n",
    "\n",
    "    def show_board(self,):\n",
    "        table = [\n",
    "            [self.board[0],self.board[1],self.board[2]],\n",
    "            [self.board[3],self.board[4],self.board[5]],\n",
    "            [self.board[6],self.board[7],self.board[8]],\n",
    "            ]\n",
    "        print(tabulate(table))\n",
    "\n",
    "    def swap_player_turn(self) :\n",
    "        if self.player_turn == 'O' :\n",
    "            self.player_turn = 'X'\n",
    "        else :\n",
    "             self.player_turn = 'O'\n",
    "        return self.player_turn\n",
    "\n",
    "    def check_winner(self,):\n",
    "        #row check\n",
    "        if self.board[0] == self.board[1] and self.board[0] == self.board[2]  :\n",
    "            print (f' Player {self.board[0]} won the game' )\n",
    "            return True\n",
    "        elif self.board[3] == self.board[4] and self.board[3] == self.board[5]  :\n",
    "            print (f' Player {self.board[3]} won the game' )\n",
    "            return True\n",
    "        elif self.board[6] == self.board[7] and self.board[6] == self.board[8]  :\n",
    "            print (f' Player {self.board[6]} won the game' )\n",
    "            return True\n",
    "        # column check\n",
    "        if self.board[0] == self.board[3] and self.board[0] == self.board[6]  :\n",
    "            print(f' Player {self.board[0]} won the game' )\n",
    "            return True\n",
    "        elif self.board[1] == self.board[4] and self.board[1] == self.board[7]  :\n",
    "            print (f' Player {self.board[1]} won the game' )\n",
    "            return True\n",
    "        elif self.board[2] == self.board[5] and self.board[2] == self.board[8]  :\n",
    "            print (f' Player {self.board[2]} won the game' )\n",
    "            return True\n",
    "        # check diagonal\n",
    "        if self.board[0] == self.board[4] and self.board[0] == self.board[8]  :\n",
    "            print (f' Player {self.board[0]} won the game' )\n",
    "            return True\n",
    "        elif self.board[2] == self.board[4] and self.board[2] == self.board[6]  :\n",
    "            print (f' Player {self.board[2]} won the game' )\n",
    "            return True\n",
    "        else :\n",
    "            return False\n",
    "\n",
    "    def check_empty(self, loc):\n",
    "        if self.board[loc - 1] == loc:\n",
    "            return True\n",
    "        else:\n",
    "            return False\n",
    "\n",
    "    def fill_stage(self, player, loc):\n",
    "        if self.check_empty(loc):\n",
    "            if player.lower() == 'x' :\n",
    "                self.board[loc - 1] = 'X'\n",
    "            elif player.lower() == 'o' :\n",
    "                self.board[loc - 1] = 'O'\n",
    "        else :\n",
    "            print('Picked Location has been filled . Please Change your choice.')\n",
    "\n",
    "    def is_board_filled(self) :\n",
    "        for item in self.board:\n",
    "            if str(item).isdigit() :\n",
    "                return False\n",
    "        return True\n",
    "\n",
    "    def start(self):\n",
    "        while True :\n",
    "            self.show_board()\n",
    "            loc = int(input(f\" player {self.player_turn} should mark the location (1-9) : \"))\n",
    "            if loc < 1 or loc > 9  :\n",
    "                print('Your input is invalid')\n",
    "                continue\n",
    "            elif self.check_empty(loc) == False :\n",
    "                print('Picked Location has been filled . Please Change your choice.')\n",
    "                continue\n",
    "            else :\n",
    "                self.fill_stage(player=self.player_turn , loc=loc)\n",
    "                if self.check_winner() :\n",
    "                    break\n",
    "                if self.is_board_filled() and self.check_winner() == False:\n",
    "                    print(\"It's a draw\")\n",
    "                    print('End Game')\n",
    "                    break\n",
    "                else :\n",
    "                    self.swap_player_turn()\n",
    "                    continue\n",
    "                    \n",
    "\n",
    "\n"
   ]
  },
  {
   "cell_type": "code",
   "execution_count": 10,
   "metadata": {},
   "outputs": [],
   "source": [
    "game = TicTacToe()"
   ]
  },
  {
   "cell_type": "code",
   "execution_count": 11,
   "metadata": {},
   "outputs": [
    {
     "name": "stdout",
     "output_type": "stream",
     "text": [
      "-  -  -\n",
      "1  2  3\n",
      "4  5  6\n",
      "7  8  9\n",
      "-  -  -\n",
      "-  -  -\n",
      "1  2  3\n",
      "4  O  6\n",
      "7  8  9\n",
      "-  -  -\n",
      "-  -  -\n",
      "1  2  3\n",
      "4  O  6\n",
      "7  X  9\n",
      "-  -  -\n",
      "Picked Location has been filled . Please Change your choice.\n",
      "-  -  -\n",
      "1  2  3\n",
      "4  O  6\n",
      "7  X  9\n",
      "-  -  -\n",
      "-  -  -\n",
      "1  2  3\n",
      "4  O  O\n",
      "7  X  9\n",
      "-  -  -\n",
      "-  -  -\n",
      "1  2  3\n",
      "X  O  O\n",
      "7  X  9\n",
      "-  -  -\n",
      "Picked Location has been filled . Please Change your choice.\n",
      "-  -  -\n",
      "1  2  3\n",
      "X  O  O\n",
      "7  X  9\n",
      "-  -  -\n",
      "-  -  -\n",
      "1  2  O\n",
      "X  O  O\n",
      "7  X  9\n",
      "-  -  -\n",
      "-  -  -\n",
      "1  2  O\n",
      "X  O  O\n",
      "7  X  X\n",
      "-  -  -\n",
      "-  -  -\n",
      "O  2  O\n",
      "X  O  O\n",
      "7  X  X\n",
      "-  -  -\n",
      "-  -  -\n",
      "O  X  O\n",
      "X  O  O\n",
      "7  X  X\n",
      "-  -  -\n",
      " Player O won the game\n"
     ]
    }
   ],
   "source": [
    "game.start()"
   ]
  },
  {
   "cell_type": "code",
   "execution_count": 3,
   "metadata": {},
   "outputs": [
    {
     "data": {
      "text/plain": [
       "False"
      ]
     },
     "execution_count": 3,
     "metadata": {},
     "output_type": "execute_result"
    }
   ],
   "source": [
    "game.is_board_filled()"
   ]
  },
  {
   "cell_type": "code",
   "execution_count": 4,
   "metadata": {},
   "outputs": [
    {
     "name": "stdout",
     "output_type": "stream",
     "text": [
      "-  -  -\n",
      "1  2  3\n",
      "4  5  6\n",
      "7  8  9\n",
      "-  -  -\n"
     ]
    }
   ],
   "source": [
    "game.show_board()"
   ]
  },
  {
   "cell_type": "code",
   "execution_count": 5,
   "metadata": {},
   "outputs": [
    {
     "data": {
      "text/plain": [
       "'X'"
      ]
     },
     "execution_count": 5,
     "metadata": {},
     "output_type": "execute_result"
    }
   ],
   "source": [
    "game.player_turn"
   ]
  },
  {
   "cell_type": "code",
   "execution_count": 8,
   "metadata": {},
   "outputs": [
    {
     "name": "stdout",
     "output_type": "stream",
     "text": [
      "-  -  -\n",
      "1  2  3\n",
      "4  X  6\n",
      "7  8  9\n",
      "-  -  -\n"
     ]
    }
   ],
   "source": [
    "game.show_board()"
   ]
  },
  {
   "cell_type": "code",
   "execution_count": 7,
   "metadata": {},
   "outputs": [],
   "source": [
    "game.fill_stage(player='x', loc=5)"
   ]
  },
  {
   "cell_type": "code",
   "execution_count": 10,
   "metadata": {},
   "outputs": [],
   "source": [
    "game.fill_stage(player='x', loc=6)\n",
    "game.fill_stage(player='x', loc=4)"
   ]
  },
  {
   "cell_type": "code",
   "execution_count": 11,
   "metadata": {},
   "outputs": [
    {
     "name": "stdout",
     "output_type": "stream",
     "text": [
      "-  -  -\n",
      "1  2  3\n",
      "X  X  X\n",
      "7  8  9\n",
      "-  -  -\n"
     ]
    }
   ],
   "source": [
    "game.show_board()"
   ]
  },
  {
   "cell_type": "code",
   "execution_count": 15,
   "metadata": {},
   "outputs": [
    {
     "name": "stdout",
     "output_type": "stream",
     "text": [
      " Player X won the game\n"
     ]
    }
   ],
   "source": [
    "game.check_winner('amin')"
   ]
  },
  {
   "cell_type": "code",
   "execution_count": null,
   "metadata": {},
   "outputs": [],
   "source": [
    "game.fill_stage(player='o',loc=5)"
   ]
  },
  {
   "cell_type": "code",
   "execution_count": null,
   "metadata": {},
   "outputs": [],
   "source": [
    "game.show_board()"
   ]
  },
  {
   "cell_type": "code",
   "execution_count": null,
   "metadata": {},
   "outputs": [],
   "source": [
    "game.fill_stage(player='o', loc=7)"
   ]
  },
  {
   "cell_type": "code",
   "execution_count": null,
   "metadata": {},
   "outputs": [],
   "source": [
    "game.show_board()"
   ]
  },
  {
   "cell_type": "code",
   "execution_count": null,
   "metadata": {},
   "outputs": [],
   "source": [
    "def check_winner() :\n",
    "    #row check \n",
    "    if self.board[0] == self.board[1] and self.board[0] == self.board[2]  :\n",
    "        print {f' Player {self.board[0]} won the game' }\n",
    "    elif self.board[3] == self.board[4] and self.board[3] == self.board[5]  :\n",
    "        print {f' Player {self.board[3]} won the game' }\n",
    "    elif self.board[6] == self.board[7] and self.board[6] == self.board[8]  :\n",
    "        print {f' Player {self.board[6]} won the game' }\n",
    "    # column check\n",
    "    if self.board[0] == self.board[3] and self.board[0] == self.board[6]  :\n",
    "        print {f' Player {self.board[0]} won the game' }\n",
    "    elif self.board[1] == self.board[4] and self.board[1] == self.board[7]  :\n",
    "        print {f' Player {self.board[1]} won the game' }\n",
    "    elif self.board[2] == self.board[5] and self.board[2] == self.board[8]  :\n",
    "        print {f' Player {self.board[2]} won the game' }\n",
    "    # chech diagonal\n",
    "    if self.board[0] == self.board[4] and self.board[0] == self.board[8]  :\n",
    "        print {f' Player {self.board[0]} won the game' }\n",
    "    elif self.board[2] == self.board[4] and self.board[2] == self.board[6]  :\n",
    "        print {f' Player {self.board[2]} won the game' }"
   ]
  },
  {
   "cell_type": "code",
   "execution_count": null,
   "metadata": {},
   "outputs": [],
   "source": [
    "def first_player(x) :\n",
    "    return random.choice(x)"
   ]
  },
  {
   "cell_type": "code",
   "execution_count": null,
   "metadata": {},
   "outputs": [],
   "source": [
    "first_player(['x', 'o'])"
   ]
  },
  {
   "cell_type": "code",
   "execution_count": null,
   "metadata": {},
   "outputs": [],
   "source": [
    "game.player_turn"
   ]
  },
  {
   "cell_type": "code",
   "execution_count": null,
   "metadata": {},
   "outputs": [],
   "source": [
    "game.swap_player_turn()"
   ]
  },
  {
   "cell_type": "code",
   "execution_count": null,
   "metadata": {},
   "outputs": [],
   "source": [
    "game.player_turn"
   ]
  },
  {
   "cell_type": "code",
   "execution_count": null,
   "metadata": {},
   "outputs": [],
   "source": [
    "game.player_turn"
   ]
  },
  {
   "cell_type": "code",
   "execution_count": null,
   "metadata": {},
   "outputs": [],
   "source": [
    "game.swap_player_turn()"
   ]
  },
  {
   "cell_type": "code",
   "execution_count": null,
   "metadata": {},
   "outputs": [],
   "source": [
    "game.player_turn"
   ]
  },
  {
   "cell_type": "code",
   "execution_count": null,
   "metadata": {},
   "outputs": [],
   "source": [
    "k = '5'"
   ]
  },
  {
   "cell_type": "code",
   "execution_count": null,
   "metadata": {},
   "outputs": [],
   "source": [
    "k.isdigit()"
   ]
  },
  {
   "cell_type": "code",
   "execution_count": null,
   "metadata": {},
   "outputs": [],
   "source": [
    "game.is_board_filled()"
   ]
  },
  {
   "cell_type": "code",
   "execution_count": null,
   "metadata": {},
   "outputs": [],
   "source": []
  }
 ],
 "metadata": {
  "kernelspec": {
   "display_name": "machine_learning",
   "language": "python",
   "name": "python3"
  },
  "language_info": {
   "codemirror_mode": {
    "name": "ipython",
    "version": 3
   },
   "file_extension": ".py",
   "mimetype": "text/x-python",
   "name": "python",
   "nbconvert_exporter": "python",
   "pygments_lexer": "ipython3",
   "version": "3.10.13"
  }
 },
 "nbformat": 4,
 "nbformat_minor": 2
}
